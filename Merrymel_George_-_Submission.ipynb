{
 "cells": [
  {
   "cell_type": "code",
   "execution_count": 1,
   "metadata": {
    "id": "OBF0Quv3mbGO"
   },
   "outputs": [],
   "source": [
    "#Price Data\n",
    "\n",
    "item_dict = {'almonds': 6,\n",
    " 'antioxidant juice': 9,\n",
    " 'avocado': 1,\n",
    " 'black tea': 4,\n",
    " 'burgers': 4,\n",
    " 'champagne': 3,\n",
    " 'chicken': 4,\n",
    " 'chocolate': 7,\n",
    " 'chutney': 7,\n",
    " 'cookies': 7,\n",
    " 'cooking oil': 7,\n",
    " 'cottage cheese': 9,\n",
    " 'eggs': 9,\n",
    " 'energy bar': 9,\n",
    " 'energy drink': 3,\n",
    " 'extra dark chocolate': 8,\n",
    " 'french fries': 7,\n",
    " 'fresh tuna': 9,\n",
    " 'frozen smoothie': 7,\n",
    " 'frozen vegetables': 2,\n",
    " 'green grapes': 8,\n",
    " 'green tea': 8,\n",
    " 'honey': 9,\n",
    " 'light cream': 5,\n",
    " 'low fat yogurt': 4,\n",
    " 'meatballs': 9,\n",
    " 'milk': 5,\n",
    " 'mineral water': 2,\n",
    " 'oil': 9,\n",
    " 'olive oil': 8,\n",
    " 'pet food': 3,\n",
    " 'protein bar': 1,\n",
    " 'salad': 7,\n",
    " 'salmon': 3,\n",
    " 'shallot': 6,\n",
    " 'shrimp': 2,\n",
    " 'soup': 2,\n",
    " 'spaghetti': 6,\n",
    " 'spinach': 7,\n",
    " 'tomato juice': 8,\n",
    " 'tomatoes': 5,\n",
    " 'turkey': 8,\n",
    " 'vegetables mix': 3,\n",
    " 'whole wheat flour': 5,\n",
    " 'whole wheat pasta': 5,\n",
    " 'whole wheat rice': 4,\n",
    " 'yams': 7}"
   ]
  },
  {
   "cell_type": "code",
   "execution_count": 2,
   "metadata": {
    "id": "_uutgZt4mcgz"
   },
   "outputs": [],
   "source": [
    "# transaction data\n",
    "\n",
    "transaction_data = \\\n",
    "[['shrimp', 'almonds', 'avocado', 'vegetables mix', 'green grapes', 'whole wheat flour', 'yams', 'cottage cheese', 'energy drink', 'tomato juice', 'low fat yogurt', 'green tea', 'honey', 'salad', 'mineral water', 'salmon', 'antioxidant juice', 'frozen smoothie', 'spinach', 'olive oil'],\n",
    "['burgers', 'meatballs', 'eggs'],\n",
    "['chutney'],\n",
    "['turkey', 'avocado'],\n",
    "['mineral water', 'milk', 'energy bar', 'whole wheat rice', 'green tea'],\n",
    "['low fat yogurt'],\n",
    "['whole wheat pasta', 'french fries'],\n",
    "['soup', 'light cream', 'shallot'],\n",
    "['frozen vegetables', 'spaghetti', 'green tea'],\n",
    "['french fries'],\n",
    "['eggs', 'pet food'],\n",
    "['cookies'],\n",
    "['turkey', 'burgers', 'mineral water', 'eggs', 'cooking oil'],\n",
    "['spaghetti', 'champagne', 'cookies'],\n",
    "['mineral water', 'salmon'],\n",
    "['mineral water'],\n",
    "['shrimp', 'chocolate', 'chicken', 'honey', 'oil', 'cooking oil', 'low fat yogurt'],\n",
    "['turkey', 'eggs'],\n",
    "['turkey', 'fresh tuna', 'tomatoes', 'spaghetti', 'mineral water', 'black tea', 'salmon', 'eggs', 'chicken', 'extra dark chocolate'],\n",
    "['meatballs', 'milk', 'honey', 'french fries', 'protein bar']]"
   ]
  },
  {
   "cell_type": "markdown",
   "metadata": {},
   "source": [
    "#### <span style = 'color : SaddleBrown'> Q1.1 - Find how many unique items are present in the data?  (Hint: It will correspond to the number of key pairs in the Cost dictionary)"
   ]
  },
  {
   "cell_type": "code",
   "execution_count": 3,
   "metadata": {},
   "outputs": [
    {
     "name": "stdout",
     "output_type": "stream",
     "text": [
      "Number of unique items is: 47\n"
     ]
    }
   ],
   "source": [
    "#unique items are present in the data\n",
    "\n",
    "#item_dict.keys() will give the keys of the dictionary and length of the same will give the total number of unqiue items\n",
    "print('Number of unique items is:',len(item_dict.keys()))"
   ]
  },
  {
   "cell_type": "markdown",
   "metadata": {},
   "source": [
    "#### <span style = 'color : SaddleBrown'> Q1.2 - Find the total number of transactions?"
   ]
  },
  {
   "cell_type": "code",
   "execution_count": 4,
   "metadata": {},
   "outputs": [
    {
     "name": "stdout",
     "output_type": "stream",
     "text": [
      "Total number of transactions: 20\n"
     ]
    }
   ],
   "source": [
    "#Total number of transactions\n",
    "\n",
    "#length of the transaction_data dictionary gives the total number of transactions\n",
    "print('Total number of transactions:', len(transaction_data))"
   ]
  },
  {
   "cell_type": "markdown",
   "metadata": {},
   "source": [
    "#### <span style = 'color : SaddleBrown'> Q1.3 - Add items, try adding the item “banana” in stores. The cost of this item is $5. Add the item “banana” to the Cost dictionary. "
   ]
  },
  {
   "cell_type": "code",
   "execution_count": 5,
   "metadata": {},
   "outputs": [
    {
     "name": "stdout",
     "output_type": "stream",
     "text": [
      "{'almonds': 6, 'antioxidant juice': 9, 'avocado': 1, 'black tea': 4, 'burgers': 4, 'champagne': 3, 'chicken': 4, 'chocolate': 7, 'chutney': 7, 'cookies': 7, 'cooking oil': 7, 'cottage cheese': 9, 'eggs': 9, 'energy bar': 9, 'energy drink': 3, 'extra dark chocolate': 8, 'french fries': 7, 'fresh tuna': 9, 'frozen smoothie': 7, 'frozen vegetables': 2, 'green grapes': 8, 'green tea': 8, 'honey': 9, 'light cream': 5, 'low fat yogurt': 4, 'meatballs': 9, 'milk': 5, 'mineral water': 2, 'oil': 9, 'olive oil': 8, 'pet food': 3, 'protein bar': 1, 'salad': 7, 'salmon': 3, 'shallot': 6, 'shrimp': 2, 'soup': 2, 'spaghetti': 6, 'spinach': 7, 'tomato juice': 8, 'tomatoes': 5, 'turkey': 8, 'vegetables mix': 3, 'whole wheat flour': 5, 'whole wheat pasta': 5, 'whole wheat rice': 4, 'yams': 7, 'banana': 5}\n"
     ]
    }
   ],
   "source": [
    "#Add item 'banana' with price $5 to the cost dictionary\n",
    "item_dict['banana'] = 5\n",
    "print(item_dict)"
   ]
  },
  {
   "cell_type": "markdown",
   "metadata": {},
   "source": [
    "#### <span style = 'color : SaddleBrown'> Q1.4 - Use a function named add_item( ) to automatically add an item to the Cost dictionary given its name and price."
   ]
  },
  {
   "cell_type": "code",
   "execution_count": 6,
   "metadata": {},
   "outputs": [],
   "source": [
    "# function named add_item( ) to automatically add an item to the Cost dictionary given its name and price.\n",
    "\n",
    "def add_item(item, price):\n",
    "    #Checking whether the item is already present in the dictionary\n",
    "    if item.lower() in item_dict: \n",
    "        print('\\'{}\\''.format(item.lower()), 'already present in the cost dictionary with price ${}'.format(item_dict[item.lower()]))\n",
    "    else:\n",
    "        #adding the item to the dictionary with key in lowercase for consistency\n",
    "        item_dict[item.lower()]=price\n",
    "        print('\\'{}\\''.format(item.lower()),'successfully added to the cost dictionary')"
   ]
  },
  {
   "cell_type": "code",
   "execution_count": 7,
   "metadata": {},
   "outputs": [
    {
     "name": "stdout",
     "output_type": "stream",
     "text": [
      "'apricot' successfully added to the cost dictionary\n"
     ]
    }
   ],
   "source": [
    "#Adding a new item using the add_item() function\n",
    "add_item('Apricot', 6)"
   ]
  },
  {
   "cell_type": "markdown",
   "metadata": {},
   "source": [
    "#### <span style = 'color : SaddleBrown'> Q1.5 - Remove an item: for example: if the customers at Walmart do not seem to be purchasing “banana,” and the store decides to discontinue this item. The function to should be able to remove the item “banana” from the Cost dictionary"
   ]
  },
  {
   "cell_type": "code",
   "execution_count": 8,
   "metadata": {},
   "outputs": [
    {
     "name": "stdout",
     "output_type": "stream",
     "text": [
      "'banana' item removed from cost dictionary\n"
     ]
    }
   ],
   "source": [
    "#Remove an item 'banana' from the cost dictionary\n",
    "if 'banana' in item_dict:\n",
    "    del item_dict['banana']\n",
    "    print('\\'banana\\' item removed from cost dictionary')\n",
    "else:\n",
    "    print('\\'banana\\' item is not present in the cost dictionary')"
   ]
  },
  {
   "cell_type": "markdown",
   "metadata": {},
   "source": [
    "#### <span style = 'color : SaddleBrown'> Q1.5.1 - Create a function called remove_item( ) to automatically remove an item from the Cost dictionary given its name."
   ]
  },
  {
   "cell_type": "code",
   "execution_count": 9,
   "metadata": {},
   "outputs": [],
   "source": [
    "#remove_item() to automatically remove an item from the Cost dictionary given its name\n",
    "\n",
    "'''The remove_item() function is designed as case insensitive. \n",
    "    The name of the item passed as the parameter to the function is checked for its spelling \n",
    "    irrespective of whether it is uppercase or lowercase'''\n",
    "\n",
    "def remove_item(item):\n",
    "    #as all keys in the item_dict are in lower case, checking for item.lower() in the item_dict\n",
    "    if item.lower() in item_dict:\n",
    "        del item_dict[item.lower()]\n",
    "        print('\\'{}\\''.format(item.lower()), 'item removed from the cost dictionary')\n",
    "    else:\n",
    "        print('\\'{}\\''.format(item), 'item is not present in the cost dictionary')"
   ]
  },
  {
   "cell_type": "code",
   "execution_count": 10,
   "metadata": {},
   "outputs": [
    {
     "name": "stdout",
     "output_type": "stream",
     "text": [
      "'apricot' item removed from the cost dictionary\n"
     ]
    }
   ],
   "source": [
    "#Removing the 'apricot' item using the remove_item() function\n",
    "remove_item('Apricot')"
   ]
  },
  {
   "cell_type": "markdown",
   "metadata": {},
   "source": [
    "#### <span style = 'color : SaddleBrown'> Q2.1 - Write the code, to find the price of an item from the cost dictionary. Find the price of salmon from the cost dictionary"
   ]
  },
  {
   "cell_type": "code",
   "execution_count": 11,
   "metadata": {},
   "outputs": [
    {
     "name": "stdout",
     "output_type": "stream",
     "text": [
      "The price of 'salmon' is $3\n"
     ]
    }
   ],
   "source": [
    "#Find the price of salmon from the cost dictionary\n",
    "print('The price of \\'salmon\\' is ${}'.format(item_dict['salmon']))"
   ]
  },
  {
   "cell_type": "markdown",
   "metadata": {},
   "source": [
    "#### <span style = 'color : SaddleBrown'> Q2.2 - Write a code that helps the administrator find any particular transaction in the sequence. Try finding the ninth transaction from the data"
   ]
  },
  {
   "cell_type": "code",
   "execution_count": 12,
   "metadata": {},
   "outputs": [
    {
     "name": "stdout",
     "output_type": "stream",
     "text": [
      "The ninth transaction contains ['frozen vegetables', 'spaghetti', 'green tea']\n"
     ]
    }
   ],
   "source": [
    "#Find the ninth transaction from the data\n",
    "\n",
    "#The ninth(n) transaction will be the eighth(n-1) index item in the transaction_data list\n",
    "print('The ninth transaction contains',  transaction_data[8])"
   ]
  },
  {
   "cell_type": "markdown",
   "metadata": {},
   "source": [
    "#### <span style = 'color : SaddleBrown'> Q2.3 - How many items are present in the ninth transaction?"
   ]
  },
  {
   "cell_type": "code",
   "execution_count": 13,
   "metadata": {},
   "outputs": [
    {
     "name": "stdout",
     "output_type": "stream",
     "text": [
      "The number of items in the ninth transaction is 3\n"
     ]
    }
   ],
   "source": [
    "#Number of items in the ninth transaction from the data\n",
    "print('The number of items in the ninth transaction is', len(transaction_data[8]))"
   ]
  },
  {
   "cell_type": "markdown",
   "metadata": {},
   "source": [
    "#### <span style = 'color : SaddleBrown'> Q2.4 - Find the total cost of the ninth transaction from the array of transactions."
   ]
  },
  {
   "cell_type": "code",
   "execution_count": 14,
   "metadata": {},
   "outputs": [
    {
     "name": "stdout",
     "output_type": "stream",
     "text": [
      "Total cost of the ninth transaction is $16\n"
     ]
    }
   ],
   "source": [
    "#Total cost of the ninth transaction\n",
    "total_cost = 0\n",
    "for x in transaction_data[8]:\n",
    "    total_cost += item_dict[x]\n",
    "print('Total cost of the ninth transaction is ${}'.format(total_cost))"
   ]
  },
  {
   "cell_type": "markdown",
   "metadata": {},
   "source": [
    "#### <span style = 'color : SaddleBrown'> Q2.5 - As per government guidelines, a mandatory 5% tax is applied to the total cost of a transaction. Find the final price of the second transaction after applicable taxes have been implemented."
   ]
  },
  {
   "cell_type": "code",
   "execution_count": 15,
   "metadata": {},
   "outputs": [
    {
     "name": "stdout",
     "output_type": "stream",
     "text": [
      "Final price of the second transaction is $23.1\n"
     ]
    }
   ],
   "source": [
    "#Final price of the second transaction after apply 5% tax\n",
    "\n",
    "total_cost = 0\n",
    "for x in transaction_data[1]:\n",
    "    total_cost += item_dict[x]\n",
    "print('Final price of the second transaction is ${}'.format(round((1.05*total_cost),2)))"
   ]
  },
  {
   "cell_type": "markdown",
   "metadata": {},
   "source": [
    "#### <span style = 'color : SaddleBrown'> Q2.6 - Create a function named find_total( ) to find the final price of any transaction after applicable taxes have been implemented."
   ]
  },
  {
   "cell_type": "code",
   "execution_count": 16,
   "metadata": {},
   "outputs": [],
   "source": [
    "#Function find_total() to find the final price of a transaction after applicable taxes have been implemented\n",
    "\n",
    "def find_total(n):\n",
    "    if n<1:\n",
    "        print('Not a valid transaction number')\n",
    "        return\n",
    "    if n>len(transaction_data):\n",
    "        print('Only', len(transaction_data),'transactions have been completed. So, transaction number has to be less than', len(transaction_data)+1)\n",
    "        return\n",
    "    total_cost = 0\n",
    "    for x in transaction_data[n-1]:\n",
    "        total_cost += item_dict[x]\n",
    "    print('Final price of transaction number {}'.format(n), 'is ${}'.format(round((1.05*total_cost),2)))"
   ]
  },
  {
   "cell_type": "code",
   "execution_count": 17,
   "metadata": {},
   "outputs": [
    {
     "name": "stdout",
     "output_type": "stream",
     "text": [
      "Final price of transaction number 2 is $23.1\n"
     ]
    }
   ],
   "source": [
    "#Finding the final price of second transaction using find_total()\n",
    "find_total(2)"
   ]
  },
  {
   "cell_type": "markdown",
   "metadata": {},
   "source": [
    "#### <span style = 'color : SaddleBrown'>Q3.1 - What is the data structure that can be used to count the frequency of items purchased(from the transaction data)?\n",
    "<span style = 'color : ForestGreen'>Answer - Dictionary"
   ]
  },
  {
   "cell_type": "markdown",
   "metadata": {},
   "source": [
    "#### <span style = 'color : SaddleBrown'> Q3.2 - Create a frequency counter to count the number of items"
   ]
  },
  {
   "cell_type": "code",
   "execution_count": 18,
   "metadata": {},
   "outputs": [],
   "source": [
    "#frequency counter to count the number of items\n",
    "\n",
    "frequency_dict = {}  #creating the empty dictionary\n",
    "\n",
    "for transaction in transaction_data: # looping over each transaction\n",
    "    for item in transaction: # looping over each item present in the transaction\n",
    "        if item in frequency_dict:\n",
    "            frequency_dict[item] += 1 # increment the frequency by 1 if the item is found in the dictionary\n",
    "        else:\n",
    "            frequency_dict[item] = 1 # create a new key with the item name if the item is found for the first time"
   ]
  },
  {
   "cell_type": "markdown",
   "metadata": {},
   "source": [
    "#### <span style = 'color : SaddleBrown'> Q3.3 - A new transaction has just been made. This transaction includes “honey,” “pet food,” and “shrimp.” Update the frequency counter to reflect this new transaction."
   ]
  },
  {
   "cell_type": "code",
   "execution_count": 19,
   "metadata": {},
   "outputs": [],
   "source": [
    "#new transaction includes “honey,” “pet food,” and “shrimp.” Update the frequency counter to reflect this new transaction\n",
    "new_transaction = ['honey', 'pet food', 'shrimp']\n",
    "\n",
    "#adding the new transaction to the transaction data for data consistency\n",
    "transaction_data.append(new_transaction)\n",
    "\n",
    "for item in new_transaction: #looping over each item present in the new transaction\n",
    "    if item in frequency_dict:\n",
    "        frequency_dict[item] += 1 #increment the frequency by 1 if the item is found in the dictionary\n",
    "    else:\n",
    "        frequency_dict[item] = 1 #create a new key with the item name if the item is found for the first time"
   ]
  },
  {
   "cell_type": "markdown",
   "metadata": {},
   "source": [
    "#### <span style = 'color : SaddleBrown'> Q3.4 - Create a function named update_counter( ) to automatically update the frequency counter in case any new transaction is made."
   ]
  },
  {
   "cell_type": "code",
   "execution_count": 20,
   "metadata": {},
   "outputs": [],
   "source": [
    "#function update_counter() to automatically update the frequency counter in case any new transaction is made\n",
    "\n",
    "def update_counter(transaction):\n",
    "    for item in transaction: #looping over each item present in the new transaction\n",
    "        if item in frequency_dict:\n",
    "            frequency_dict[item] += 1 #increment the frequency by 1 if the item is found in the dictionary\n",
    "        else:\n",
    "            frequency_dict[item] = 1 #create a new key with the item name if the item is found for the first time"
   ]
  },
  {
   "cell_type": "markdown",
   "metadata": {},
   "source": [
    "#### <span style = 'color : SaddleBrown'> Q4.1 - What is the top-selling item?"
   ]
  },
  {
   "cell_type": "code",
   "execution_count": 21,
   "metadata": {},
   "outputs": [
    {
     "name": "stdout",
     "output_type": "stream",
     "text": [
      "The top selling item is mineral water\n"
     ]
    }
   ],
   "source": [
    "#The top-selling item\n",
    "\n",
    "sorted_freq_dict = sorted(frequency_dict.items(), key=lambda item: item[1], reverse=True)\n",
    "top_sell_quantity = sorted_freq_dict[0][1]\n",
    "top_sell_item = []\n",
    "for i in sorted_freq_dict:\n",
    "    if i[1] == top_sell_quantity:\n",
    "        top_sell_item.append(i[0])\n",
    "    else:\n",
    "        break\n",
    "if len(top_sell_item)>1:\n",
    "    print('The top selling items are ',end='')\n",
    "    print(*top_sell_item, sep=', ')\n",
    "else:\n",
    "    print('The top selling item is', top_sell_item[0])"
   ]
  },
  {
   "cell_type": "markdown",
   "metadata": {},
   "source": [
    "#### <span style = 'color : SaddleBrown'> Q4.2 - Sort the frequency counter using the sorting algorithms provided in the table below. Additionally, for each of the sorting methods, leverage the time function in Python to see how many milliseconds it takes for an algorithm to sort items."
   ]
  },
  {
   "cell_type": "code",
   "execution_count": 22,
   "metadata": {},
   "outputs": [],
   "source": [
    "#Merge Sort function - sorting based on the descending order of frequency value\n",
    "def mergeSort(arr):\n",
    "    if len(arr)>1:\n",
    "        mid = len(arr)//2\n",
    "        L = arr[:mid]\n",
    "        R = arr[mid:]\n",
    "        \n",
    "        mergeSort(L)\n",
    "        mergeSort(R)\n",
    "        \n",
    "        i = j = k = 0\n",
    "        while i<len(L) and j<len(R):\n",
    "            if L[i][1]>R[j][1]:\n",
    "                arr[k] = L[i]\n",
    "                i += 1\n",
    "            else:\n",
    "                arr[k] = R[j]\n",
    "                j += 1\n",
    "            k += 1\n",
    "        while i<len(L):\n",
    "            arr[k] = L[i]\n",
    "            i += 1\n",
    "            k += 1\n",
    "        while j<len(R):\n",
    "            arr[k] = R[j]\n",
    "            j += 1\n",
    "            k += 1"
   ]
  },
  {
   "cell_type": "code",
   "execution_count": 23,
   "metadata": {},
   "outputs": [],
   "source": [
    "#Insertion Sort function - sorting based on the descending order of frequency value\n",
    "def insertionSort(arr):\n",
    "    for i in range(1, len(arr)):\n",
    "        key = arr[i]\n",
    "        key_value = arr[i][1]\n",
    "        j = i-1\n",
    "        while j>=0 and key_value>arr[j][1]:\n",
    "            arr[j+1] = arr[j]\n",
    "            j -=1\n",
    "        arr[j+1] = key"
   ]
  },
  {
   "cell_type": "code",
   "execution_count": 24,
   "metadata": {},
   "outputs": [],
   "source": [
    "#Selection sort function - sorting based on the descending order of frequency value\n",
    "def selectionSort(arr):\n",
    "    for i in range(len(arr)):\n",
    "        index = i\n",
    "        for j in range(i+1, len(arr)):\n",
    "            if arr[index][1]<arr[j][1]:\n",
    "                index = j\n",
    "        arr[i], arr[index] = arr[index], arr[i]"
   ]
  },
  {
   "cell_type": "code",
   "execution_count": 25,
   "metadata": {},
   "outputs": [],
   "source": [
    "#Importing the required packages\n",
    "import time\n",
    "import pandas as pd\n",
    "\n",
    "#Creating a dictionary to store the runtimes of different sorting algorithms\n",
    "sortranker = {}"
   ]
  },
  {
   "cell_type": "code",
   "execution_count": 26,
   "metadata": {},
   "outputs": [
    {
     "data": {
      "text/plain": [
       "{'mineral water': 6,\n",
       " 'eggs': 5,\n",
       " 'turkey': 4,\n",
       " 'honey': 4,\n",
       " 'spaghetti': 3,\n",
       " 'french fries': 3,\n",
       " 'salmon': 3,\n",
       " 'green tea': 3,\n",
       " 'low fat yogurt': 3,\n",
       " 'shrimp': 3,\n",
       " 'chicken': 2,\n",
       " 'cooking oil': 2,\n",
       " 'cookies': 2,\n",
       " 'pet food': 2,\n",
       " 'milk': 2,\n",
       " 'meatballs': 2,\n",
       " 'burgers': 2,\n",
       " 'avocado': 2,\n",
       " 'protein bar': 1,\n",
       " 'extra dark chocolate': 1,\n",
       " 'black tea': 1,\n",
       " 'tomatoes': 1,\n",
       " 'fresh tuna': 1,\n",
       " 'oil': 1,\n",
       " 'chocolate': 1,\n",
       " 'champagne': 1,\n",
       " 'frozen vegetables': 1,\n",
       " 'shallot': 1,\n",
       " 'light cream': 1,\n",
       " 'soup': 1,\n",
       " 'whole wheat pasta': 1,\n",
       " 'whole wheat rice': 1,\n",
       " 'energy bar': 1,\n",
       " 'chutney': 1,\n",
       " 'olive oil': 1,\n",
       " 'spinach': 1,\n",
       " 'frozen smoothie': 1,\n",
       " 'antioxidant juice': 1,\n",
       " 'salad': 1,\n",
       " 'tomato juice': 1,\n",
       " 'energy drink': 1,\n",
       " 'cottage cheese': 1,\n",
       " 'yams': 1,\n",
       " 'whole wheat flour': 1,\n",
       " 'green grapes': 1,\n",
       " 'vegetables mix': 1,\n",
       " 'almonds': 1}"
      ]
     },
     "execution_count": 26,
     "metadata": {},
     "output_type": "execute_result"
    }
   ],
   "source": [
    "#converting frequency_dict to list object\n",
    "mergearr = list(frequency_dict.items())\n",
    "\n",
    "#recording the start time of the merge sort\n",
    "mergesortstart = time.time()\n",
    "\n",
    "#Running the merge sort \n",
    "mergeSort(mergearr)\n",
    "\n",
    "#recording the end time of the merge sort\n",
    "mergesortend = time.time()\n",
    "\n",
    "#calculating the time taken for merge sort (in seconds)\n",
    "mergesorttime = mergesortend-mergesortend\n",
    "\n",
    "#converting the time value into milliseconds\n",
    "mergesorttimemilli = mergesorttime*1000\n",
    "\n",
    "#inserting the corresponding values into the sortranker dictionary\n",
    "sortranker['Merge'] = mergesorttimemilli\n",
    "\n",
    "#creating the sorted frequency counter dictionary\n",
    "merge_sort_frequency_counter = {}\n",
    "for i in mergearr:\n",
    "    merge_sort_frequency_counter[i[0]] = i[1]\n",
    "merge_sort_frequency_counter"
   ]
  },
  {
   "cell_type": "code",
   "execution_count": 27,
   "metadata": {},
   "outputs": [
    {
     "data": {
      "text/plain": [
       "{'mineral water': 6,\n",
       " 'eggs': 5,\n",
       " 'honey': 4,\n",
       " 'turkey': 4,\n",
       " 'shrimp': 3,\n",
       " 'low fat yogurt': 3,\n",
       " 'green tea': 3,\n",
       " 'salmon': 3,\n",
       " 'french fries': 3,\n",
       " 'spaghetti': 3,\n",
       " 'avocado': 2,\n",
       " 'burgers': 2,\n",
       " 'meatballs': 2,\n",
       " 'milk': 2,\n",
       " 'pet food': 2,\n",
       " 'cookies': 2,\n",
       " 'cooking oil': 2,\n",
       " 'chicken': 2,\n",
       " 'almonds': 1,\n",
       " 'vegetables mix': 1,\n",
       " 'green grapes': 1,\n",
       " 'whole wheat flour': 1,\n",
       " 'yams': 1,\n",
       " 'cottage cheese': 1,\n",
       " 'energy drink': 1,\n",
       " 'tomato juice': 1,\n",
       " 'salad': 1,\n",
       " 'antioxidant juice': 1,\n",
       " 'frozen smoothie': 1,\n",
       " 'spinach': 1,\n",
       " 'olive oil': 1,\n",
       " 'chutney': 1,\n",
       " 'energy bar': 1,\n",
       " 'whole wheat rice': 1,\n",
       " 'whole wheat pasta': 1,\n",
       " 'soup': 1,\n",
       " 'light cream': 1,\n",
       " 'shallot': 1,\n",
       " 'frozen vegetables': 1,\n",
       " 'champagne': 1,\n",
       " 'chocolate': 1,\n",
       " 'oil': 1,\n",
       " 'fresh tuna': 1,\n",
       " 'tomatoes': 1,\n",
       " 'black tea': 1,\n",
       " 'extra dark chocolate': 1,\n",
       " 'protein bar': 1}"
      ]
     },
     "execution_count": 27,
     "metadata": {},
     "output_type": "execute_result"
    }
   ],
   "source": [
    "#converting frequency_dict to list object\n",
    "insertionarr = list(frequency_dict.items())\n",
    "\n",
    "#recording the start time of the insertion sort\n",
    "insertionsortstart = time.time()\n",
    "\n",
    "#Running the insertion sort \n",
    "insertionSort(insertionarr)\n",
    "\n",
    "#recording the end time of the insertion sort\n",
    "insertionsortend = time.time()\n",
    "\n",
    "#calculating the time taken for insertion sort (in seconds)\n",
    "insertionsorttime = insertionsortend-insertionsortstart\n",
    "\n",
    "#converting the time value into milliseconds\n",
    "insertionsorttimemilli = insertionsorttime*1000\n",
    "\n",
    "#inserting the corresponding values into the sortranker dictionary\n",
    "sortranker['Insertion'] = insertionsorttimemilli\n",
    "\n",
    "#creating the sorted frequency counter dictionary\n",
    "insertion_sort_frequency_counter = {}\n",
    "for i in insertionarr:\n",
    "    insertion_sort_frequency_counter[i[0]] = i[1]\n",
    "insertion_sort_frequency_counter"
   ]
  },
  {
   "cell_type": "code",
   "execution_count": 28,
   "metadata": {},
   "outputs": [
    {
     "data": {
      "text/plain": [
       "{'mineral water': 6,\n",
       " 'eggs': 5,\n",
       " 'honey': 4,\n",
       " 'turkey': 4,\n",
       " 'low fat yogurt': 3,\n",
       " 'green tea': 3,\n",
       " 'shrimp': 3,\n",
       " 'salmon': 3,\n",
       " 'french fries': 3,\n",
       " 'spaghetti': 3,\n",
       " 'avocado': 2,\n",
       " 'burgers': 2,\n",
       " 'meatballs': 2,\n",
       " 'milk': 2,\n",
       " 'pet food': 2,\n",
       " 'cookies': 2,\n",
       " 'cooking oil': 2,\n",
       " 'chicken': 2,\n",
       " 'spinach': 1,\n",
       " 'olive oil': 1,\n",
       " 'whole wheat flour': 1,\n",
       " 'green grapes': 1,\n",
       " 'almonds': 1,\n",
       " 'chutney': 1,\n",
       " 'vegetables mix': 1,\n",
       " 'salad': 1,\n",
       " 'energy bar': 1,\n",
       " 'whole wheat rice': 1,\n",
       " 'whole wheat pasta': 1,\n",
       " 'energy drink': 1,\n",
       " 'soup': 1,\n",
       " 'light cream': 1,\n",
       " 'shallot': 1,\n",
       " 'frozen vegetables': 1,\n",
       " 'tomato juice': 1,\n",
       " 'yams': 1,\n",
       " 'cottage cheese': 1,\n",
       " 'antioxidant juice': 1,\n",
       " 'champagne': 1,\n",
       " 'chocolate': 1,\n",
       " 'frozen smoothie': 1,\n",
       " 'oil': 1,\n",
       " 'fresh tuna': 1,\n",
       " 'tomatoes': 1,\n",
       " 'black tea': 1,\n",
       " 'extra dark chocolate': 1,\n",
       " 'protein bar': 1}"
      ]
     },
     "execution_count": 28,
     "metadata": {},
     "output_type": "execute_result"
    }
   ],
   "source": [
    "#converting frequency_dict to list object\n",
    "selectionarr = list(frequency_dict.items())\n",
    "\n",
    "#recording the start time of the selection sort\n",
    "selectionsortstart = time.time()\n",
    "\n",
    "#Running the selection sort \n",
    "selectionSort(selectionarr)\n",
    "\n",
    "#recording the end time of the selection sort\n",
    "selectionsortend = time.time()\n",
    "\n",
    "#calculating the time taken for selection sort (in seconds)\n",
    "selectionsorttime = selectionsortend-selectionsortstart\n",
    "\n",
    "#converting the time value into milliseconds\n",
    "selectionsorttimemilli = selectionsorttime*1000\n",
    "\n",
    "#inserting the corresponding values into the sortranker dictionary\n",
    "sortranker['Selection'] = selectionsorttimemilli\n",
    "\n",
    "#creating the sorted frequency counter dictionary\n",
    "selection_sort_frequency_counter = {}\n",
    "for i in selectionarr:\n",
    "    selection_sort_frequency_counter[i[0]] = i[1]\n",
    "selection_sort_frequency_counter"
   ]
  },
  {
   "cell_type": "code",
   "execution_count": 29,
   "metadata": {},
   "outputs": [
    {
     "data": {
      "text/html": [
       "<div>\n",
       "<style scoped>\n",
       "    .dataframe tbody tr th:only-of-type {\n",
       "        vertical-align: middle;\n",
       "    }\n",
       "\n",
       "    .dataframe tbody tr th {\n",
       "        vertical-align: top;\n",
       "    }\n",
       "\n",
       "    .dataframe thead th {\n",
       "        text-align: right;\n",
       "    }\n",
       "</style>\n",
       "<table border=\"1\" class=\"dataframe\">\n",
       "  <thead>\n",
       "    <tr style=\"text-align: right;\">\n",
       "      <th></th>\n",
       "      <th>Algorithm</th>\n",
       "      <th>Time</th>\n",
       "    </tr>\n",
       "  </thead>\n",
       "  <tbody>\n",
       "    <tr>\n",
       "      <th>0</th>\n",
       "      <td>Merge</td>\n",
       "      <td>0.000000</td>\n",
       "    </tr>\n",
       "    <tr>\n",
       "      <th>1</th>\n",
       "      <td>Insertion</td>\n",
       "      <td>0.999212</td>\n",
       "    </tr>\n",
       "    <tr>\n",
       "      <th>2</th>\n",
       "      <td>Selection</td>\n",
       "      <td>0.000000</td>\n",
       "    </tr>\n",
       "  </tbody>\n",
       "</table>\n",
       "</div>"
      ],
      "text/plain": [
       "   Algorithm      Time\n",
       "0      Merge  0.000000\n",
       "1  Insertion  0.999212\n",
       "2  Selection  0.000000"
      ]
     },
     "execution_count": 29,
     "metadata": {},
     "output_type": "execute_result"
    }
   ],
   "source": [
    "#Creating a dataframe from sorttanker dictionary for better presentation\n",
    "df = pd.DataFrame(sortranker.items(), columns=[\"Algorithm\", \"Time\"])\n",
    "df"
   ]
  },
  {
   "cell_type": "markdown",
   "metadata": {},
   "source": [
    "#### <span style = 'color : SaddleBrown'> Q4.3 - Rank the sorting algorithms in order of the time they take to sort items."
   ]
  },
  {
   "cell_type": "code",
   "execution_count": 30,
   "metadata": {},
   "outputs": [
    {
     "data": {
      "text/html": [
       "<div>\n",
       "<style scoped>\n",
       "    .dataframe tbody tr th:only-of-type {\n",
       "        vertical-align: middle;\n",
       "    }\n",
       "\n",
       "    .dataframe tbody tr th {\n",
       "        vertical-align: top;\n",
       "    }\n",
       "\n",
       "    .dataframe thead th {\n",
       "        text-align: right;\n",
       "    }\n",
       "</style>\n",
       "<table border=\"1\" class=\"dataframe\">\n",
       "  <thead>\n",
       "    <tr style=\"text-align: right;\">\n",
       "      <th></th>\n",
       "      <th>Algorithm</th>\n",
       "      <th>Time</th>\n",
       "    </tr>\n",
       "  </thead>\n",
       "  <tbody>\n",
       "    <tr>\n",
       "      <th>0</th>\n",
       "      <td>Merge</td>\n",
       "      <td>0.000000</td>\n",
       "    </tr>\n",
       "    <tr>\n",
       "      <th>2</th>\n",
       "      <td>Selection</td>\n",
       "      <td>0.000000</td>\n",
       "    </tr>\n",
       "    <tr>\n",
       "      <th>1</th>\n",
       "      <td>Insertion</td>\n",
       "      <td>0.999212</td>\n",
       "    </tr>\n",
       "  </tbody>\n",
       "</table>\n",
       "</div>"
      ],
      "text/plain": [
       "   Algorithm      Time\n",
       "0      Merge  0.000000\n",
       "2  Selection  0.000000\n",
       "1  Insertion  0.999212"
      ]
     },
     "execution_count": 30,
     "metadata": {},
     "output_type": "execute_result"
    }
   ],
   "source": [
    "#Sorting the algorithms based on the time taken(Starting from Least time taken to most time taken)\n",
    "df.sort_values(by = 'Time')"
   ]
  }
 ],
 "metadata": {
  "colab": {
   "name": "Data.ipynb",
   "provenance": []
  },
  "kernelspec": {
   "display_name": "Python 3 (ipykernel)",
   "language": "python",
   "name": "python3"
  },
  "language_info": {
   "codemirror_mode": {
    "name": "ipython",
    "version": 3
   },
   "file_extension": ".py",
   "mimetype": "text/x-python",
   "name": "python",
   "nbconvert_exporter": "python",
   "pygments_lexer": "ipython3",
   "version": "3.9.7"
  }
 },
 "nbformat": 4,
 "nbformat_minor": 1
}
